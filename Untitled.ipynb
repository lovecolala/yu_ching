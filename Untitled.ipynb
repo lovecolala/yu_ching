{
 "cells": [
  {
   "cell_type": "code",
   "execution_count": 1,
   "metadata": {},
   "outputs": [
    {
     "name": "stdout",
     "output_type": "stream",
     "text": [
      "Wed Sep  5 13:58:36 2018       \r\n",
      "+-----------------------------------------------------------------------------+\r\n",
      "| NVIDIA-SMI 390.48                 Driver Version: 390.48                    |\r\n",
      "|-------------------------------+----------------------+----------------------+\r\n",
      "| GPU  Name        Persistence-M| Bus-Id        Disp.A | Volatile Uncorr. ECC |\r\n",
      "| Fan  Temp  Perf  Pwr:Usage/Cap|         Memory-Usage | GPU-Util  Compute M. |\r\n",
      "|===============================+======================+======================|\r\n",
      "|   0  GeForce GTX 960     Off  | 00000000:01:00.0  On |                  N/A |\r\n",
      "| 33%   46C    P8    10W / 130W |    359MiB /  1994MiB |      0%      Default |\r\n",
      "+-------------------------------+----------------------+----------------------+\r\n",
      "                                                                               \r\n",
      "+-----------------------------------------------------------------------------+\r\n",
      "| Processes:                                                       GPU Memory |\r\n",
      "|  GPU       PID   Type   Process name                             Usage      |\r\n",
      "|=============================================================================|\r\n",
      "|    0      1300      G   /usr/lib/xorg/Xorg                            15MiB |\r\n",
      "|    0      1495      G   /usr/bin/gnome-shell                          49MiB |\r\n",
      "|    0      1841      G   /usr/lib/xorg/Xorg                           135MiB |\r\n",
      "|    0      1985      G   /usr/bin/gnome-shell                          96MiB |\r\n",
      "|    0     19671      G   ...-token=5B328B2765EBD4E413F124B41AE8F1FC    53MiB |\r\n",
      "+-----------------------------------------------------------------------------+\r\n"
     ]
    }
   ],
   "source": [
    "!nvidia-smi\n",
    "# 查看目標環境的顯示卡資訊"
   ]
  },
  {
   "cell_type": "code",
   "execution_count": 3,
   "metadata": {},
   "outputs": [
    {
     "name": "stdout",
     "output_type": "stream",
     "text": [
      "On branch master\r\n",
      "Your branch is up to date with 'origin/master'.\r\n",
      "\r\n",
      "Changes not staged for commit:\r\n",
      "  (use \"git add <file>...\" to update what will be committed)\r\n",
      "  (use \"git checkout -- <file>...\" to discard changes in working directory)\r\n",
      "\r\n",
      "\t\u001b[31mmodified:   Untitled.ipynb\u001b[m\r\n",
      "\r\n",
      "Untracked files:\r\n",
      "  (use \"git add <file>...\" to include in what will be committed)\r\n",
      "\r\n",
      "\t\u001b[31m.ipynb_checkpoints/\u001b[m\r\n",
      "\r\n",
      "no changes added to commit (use \"git add\" and/or \"git commit -a\")\r\n"
     ]
    }
   ],
   "source": [
    "!git add "
   ]
  },
  {
   "cell_type": "code",
   "execution_count": 2,
   "metadata": {},
   "outputs": [],
   "source": [
    "# 不知道是要幹嘛的\n",
    "from __future__ import absolute_import\n",
    "from __future__ import division\n",
    "from __future__ import print_function\n",
    "\n",
    "# import\n",
    "import numpy as np\n",
    "import tensorflow as tf"
   ]
  },
  {
   "cell_type": "code",
   "execution_count": 15,
   "metadata": {},
   "outputs": [],
   "source": [
    "def cnn_model_fn(feature, labels, mode):\n",
    "    \"\"\"Model function for CNN.\"\"\"\n",
    "    # 輸入層\n",
    "    input_layer = tf.reshape(feature[\"x\"], [100, 28, 28, 1])\n",
    "    \n",
    "    # --------------------------------------------------------------------------------------\n",
    "    # 卷積層 1\n",
    "    # 這一層共有 32 個 Filter ，每一個 Filter 皆為 5*5\n",
    "    conv1 = tf.layers.conv2d(inputs = input_layer, filters = 32, kernel_size = [5, 5], padding = \"same\", activation = tf.nn.relu)\n",
    "    \n",
    "    # 池化層 1\n",
    "    pool1 = tf.layers.max_pooling2d(inputs = conv1, pool_size = [2, 2], strides = 2)\n",
    "    \n",
    "    # --------------------------------------------------------------------------------------\n",
    "    # 卷積層 2\n",
    "    conv2 = tf.layers.conv2d(inputs = pool1, filters = 64, kernel_size = [5, 5], padding = \"same\", activation = tf.nn.relu)\n",
    "    \n",
    "    # 池化層 2\n",
    "    pool2 = tf.layers.max_pooling2d(inputs = conv2, pool_size = [2, 2], strides = 2)\n",
    "    \n",
    "    # --------------------------------------------------------------------------------------\n",
    "    # 全連接層 1 - Dense\n",
    "    pool2_flat = tf.reshape(pool2, [-1, 7*7*64])\n",
    "    dense = tf.layers.dense(inputs = pool2_flat, units = 1024, activation = tf.nn.relu)\n",
    "    dropout = tf.layers.dropout(inputs = dense, rate = 0.5, training = (mode == tf.estimator.ModeKeys.TRAIN))\n",
    "    \n",
    "    # 全連接層 2 - Logits\n",
    "    # 有10種輸出的可能 (數字0~9)\n",
    "    logits = tf.layers.dense(inputs = dropout, units = 10)\n",
    "    predictions ={\n",
    "        # Generate predictions (for PREDICT and EVAL mode)\n",
    "        \"classes\": tf.argmax(input = logits, axis = 1),\n",
    "        # Add 'softmax_tensor' to the graph. It is used for PREDICT and by the 'logging_hook'\n",
    "        \"probabilities\": tf.nn.softmax(logits, name=\"softmax_tensor\")\n",
    "    }\n",
    "    \n",
    "    if mode == tf.estimator.ModeKeys.PREDICT:\n",
    "        return tf.estimator.EstimatorSpec(mode = mode, predictions = predictions)\n",
    "    \n",
    "    # 計算 loss 值\n",
    "    loss = tf.losses.sparse_softmax_cross_entropy(labels = labels, logits = logits)\n",
    "    \n",
    "    # Configure the Training Option\n",
    "    if mode == tf.estimator.ModeKeys.TRAIN:\n",
    "        optimizer = tf.train.GradientDescentOptimizer(learning_rate = 0.001)\n",
    "        train_op = optimizer.minimize(loss = loss, global_step = tf.train.get_global_step())\n",
    "        return tf.estimator.EstimatorSpec(mode = mode, loss = loss, train_op = train_op)\n",
    "    \n",
    "    # Add evaluation metrics\n",
    "    eval_metric_ops = {\n",
    "        \"accuracy\": tf.metrics.accuracy(labels = labels, predictions = predictions[\"classes\"])\n",
    "    }\n",
    "    return tf.estimator.EstimatorSpec(mode = mode, loss = loss, eval_metric_ops = eval_metric_ops)    "
   ]
  },
  {
   "cell_type": "code",
   "execution_count": 8,
   "metadata": {},
   "outputs": [
    {
     "data": {
      "text/plain": [
       "'/home/andy/anaconda3/envs/yu-ching/lib/python3.5/site-packages/numpy/__init__.py'"
      ]
     },
     "execution_count": 8,
     "metadata": {},
     "output_type": "execute_result"
    }
   ],
   "source": []
  },
  {
   "cell_type": "code",
   "execution_count": null,
   "metadata": {},
   "outputs": [],
   "source": []
  }
 ],
 "metadata": {
  "kernelspec": {
   "display_name": "yu-ching",
   "language": "python",
   "name": "yu-ching"
  },
  "language_info": {
   "codemirror_mode": {
    "name": "ipython",
    "version": 3
   },
   "file_extension": ".py",
   "mimetype": "text/x-python",
   "name": "python",
   "nbconvert_exporter": "python",
   "pygments_lexer": "ipython3",
   "version": "3.5.6"
  }
 },
 "nbformat": 4,
 "nbformat_minor": 2
}
